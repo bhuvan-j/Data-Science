{
  "nbformat": 4,
  "nbformat_minor": 0,
  "metadata": {
    "colab": {
      "name": "Pokemon-Image-classification-using-neural-networks.ipynb",
      "provenance": [],
      "mount_file_id": "1fsw6Pll_4AjvlTqnr5ZagxkdupbMmFRy",
      "authorship_tag": "ABX9TyMr6brlw8FOlR+X3Vk8dMwU",
      "include_colab_link": true
    },
    "kernelspec": {
      "name": "python3",
      "display_name": "Python 3"
    },
    "language_info": {
      "name": "python"
    }
  },
  "cells": [
    {
      "cell_type": "markdown",
      "metadata": {
        "id": "view-in-github",
        "colab_type": "text"
      },
      "source": [
        "<a href=\"https://colab.research.google.com/github/bhuvan-j/Data-Science/blob/main/Pokemon_Image_classification_using_neural_networks.ipynb\" target=\"_parent\"><img src=\"https://colab.research.google.com/assets/colab-badge.svg\" alt=\"Open In Colab\"/></a>"
      ]
    },
    {
      "cell_type": "markdown",
      "source": [
        "#Loading and Processing Data"
      ],
      "metadata": {
        "id": "4X7kX4ihdpYX"
      }
    },
    {
      "cell_type": "code",
      "execution_count": 234,
      "metadata": {
        "id": "wgmkprj9ME0q"
      },
      "outputs": [],
      "source": [
        "import os\n",
        "from pathlib import Path\n",
        "from keras.preprocessing import image\n",
        "import matplotlib.pyplot as plt"
      ]
    },
    {
      "cell_type": "code",
      "source": [
        "p=Path(\"/content/drive/MyDrive/Colab Notebooks/Pokemon-Dataset\")\n",
        "\n",
        "dirs = p.glob(\"*\") #glob helps in iterating over the directories.\n",
        "#print(dirs)\n",
        "\n",
        "image_data=[]\n",
        "labels=[]\n",
        "\n",
        "#optional\n",
        "image_paths=[]\n",
        "\n",
        "labels_dict={\n",
        "    \"Pikachu\" : 0,\n",
        "    \"Bulbasaur\" : 1,\n",
        "    \"Meowth\" : 2\n",
        "}\n",
        "\n",
        "label2pokemon={\n",
        "    0:\"Pikachu\",\n",
        "    1:\"Bulbasaur\",\n",
        "    2:\"Meowth\"\n",
        "}\n",
        "\n",
        "for folder_dir in dirs:\n",
        "  label= str(folder_dir).split('/')[-1]\n",
        "\n",
        "  cnt=0\n",
        "  print(folder_dir)\n",
        "\n",
        "  #iterate over folder_dir and pick all images of the pokemon\n",
        "  for img_path in folder_dir.glob(\"*.jpg\"):\n",
        "    image_paths.append(img_path)\n",
        "    img = image.load_img(img_path,target_size=(40,40)) #loading the image and making the size of all the images same i.e 40x40\n",
        "    img_array= image.img_to_array(img) #converting image to array\n",
        "    image_data.append(img_array)\n",
        "\n",
        "    labels.append(labels_dict[label])\n",
        "    cnt+=1\n",
        "  print(label,\": \",cnt)\n",
        "\n",
        "\n",
        "\n"
      ],
      "metadata": {
        "colab": {
          "base_uri": "https://localhost:8080/"
        },
        "id": "7uz6I-ncM7kY",
        "outputId": "77600882-7fd8-473e-d4f0-3725c543aab2"
      },
      "execution_count": 235,
      "outputs": [
        {
          "output_type": "stream",
          "name": "stdout",
          "text": [
            "/content/drive/MyDrive/Colab Notebooks/Pokemon-Dataset/Bulbasaur\n",
            "Bulbasaur :  21\n",
            "/content/drive/MyDrive/Colab Notebooks/Pokemon-Dataset/Meowth\n",
            "Meowth :  26\n",
            "/content/drive/MyDrive/Colab Notebooks/Pokemon-Dataset/Pikachu\n",
            "Pikachu :  35\n"
          ]
        }
      ]
    },
    {
      "cell_type": "markdown",
      "source": [
        "#Visualisation"
      ],
      "metadata": {
        "id": "ByF88ldNdiXC"
      }
    },
    {
      "cell_type": "code",
      "source": [
        "import numpy as np"
      ],
      "metadata": {
        "id": "bGCDLsohaHgB"
      },
      "execution_count": 236,
      "outputs": []
    },
    {
      "cell_type": "code",
      "source": [
        "print(len(image_data))\n",
        "print(len(labels))"
      ],
      "metadata": {
        "colab": {
          "base_uri": "https://localhost:8080/"
        },
        "id": "5cE3Ci6hd9zW",
        "outputId": "f1bffcf2-ed27-47f4-cda2-53ec782b0904"
      },
      "execution_count": 237,
      "outputs": [
        {
          "output_type": "stream",
          "name": "stdout",
          "text": [
            "82\n",
            "82\n"
          ]
        }
      ]
    },
    {
      "cell_type": "code",
      "source": [
        " print(labels)"
      ],
      "metadata": {
        "colab": {
          "base_uri": "https://localhost:8080/"
        },
        "id": "EamN_nj-eL55",
        "outputId": "62fab7b5-0f05-4a38-80ff-b189c44ec481"
      },
      "execution_count": 238,
      "outputs": [
        {
          "output_type": "stream",
          "name": "stdout",
          "text": [
            "[1, 1, 1, 1, 1, 1, 1, 1, 1, 1, 1, 1, 1, 1, 1, 1, 1, 1, 1, 1, 1, 2, 2, 2, 2, 2, 2, 2, 2, 2, 2, 2, 2, 2, 2, 2, 2, 2, 2, 2, 2, 2, 2, 2, 2, 2, 2, 0, 0, 0, 0, 0, 0, 0, 0, 0, 0, 0, 0, 0, 0, 0, 0, 0, 0, 0, 0, 0, 0, 0, 0, 0, 0, 0, 0, 0, 0, 0, 0, 0, 0, 0]\n"
          ]
        }
      ]
    },
    {
      "cell_type": "code",
      "source": [
        "X = np.array(image_data)\n",
        "Y = np.array(labels)"
      ],
      "metadata": {
        "id": "JNlJr6GVeTqp"
      },
      "execution_count": 239,
      "outputs": []
    },
    {
      "cell_type": "code",
      "source": [
        "print(X.shape)  # 82 images , h= 100px , w= 100px , channels= 3 ( red, geen, blue)\n",
        "print(Y.shape)"
      ],
      "metadata": {
        "colab": {
          "base_uri": "https://localhost:8080/"
        },
        "id": "Pq_WDzKgeepm",
        "outputId": "4c53cdf8-d572-42c3-a5c9-1f4b2ae34892"
      },
      "execution_count": 240,
      "outputs": [
        {
          "output_type": "stream",
          "name": "stdout",
          "text": [
            "(82, 40, 40, 3)\n",
            "(82,)\n"
          ]
        }
      ]
    },
    {
      "cell_type": "code",
      "source": [
        "\n",
        "#shuffle our data\n",
        "import random\n",
        "random.seed(10)\n",
        "\n",
        "#combined = list(zip(X,Y)) #zip x and y values together so that they remain together\n",
        "#random.shuffle(combined) #shuffle both x and y together\n",
        "#X[:],Y[:] = zip(*combined) #unzip the data\n",
        "\n",
        "#method 2 of shufflinf using sklearn\n",
        "\n",
        "\n",
        "from sklearn.utils import shuffle\n",
        "X,Y= shuffle(X,Y,random_state=2)\n",
        "\n",
        "#normalisation\n",
        "X=X/255.0"
      ],
      "metadata": {
        "id": "iXvILj1fgD0L"
      },
      "execution_count": 241,
      "outputs": []
    },
    {
      "cell_type": "code",
      "source": [
        "#Draw some of the pokemons\n",
        "def drawimg(img,label):\n",
        "  plt.imshow(img)\n",
        "  plt.axis(\"off\")\n",
        "  plt.style.use(\"seaborn\")\n",
        "  plt.title(label2pokemon[label])\n",
        "  plt.show()"
      ],
      "metadata": {
        "id": "1xawJVKcgdf6"
      },
      "execution_count": 242,
      "outputs": []
    },
    {
      "cell_type": "code",
      "source": [
        "for i in range(10):\n",
        "  r= np.random.randint(82)\n",
        "  drawimg(X[r],Y[r])"
      ],
      "metadata": {
        "colab": {
          "base_uri": "https://localhost:8080/",
          "height": 1000
        },
        "id": "UYMVVNYZgkV6",
        "outputId": "1318ba12-fca6-4a81-be22-105347f85aa8"
      },
      "execution_count": 243,
      "outputs": [
        {
          "output_type": "display_data",
          "data": {
            "image/png": "[encoded data removed]",
            "text/plain": [
              "<Figure size 576x396 with 1 Axes>"
            ]
          },
          "metadata": {}
        },
        {
          "output_type": "display_data",
          "data": {
            "image/png": "[encoded data removed]",
            "text/plain": [
              "<Figure size 576x396 with 1 Axes>"
            ]
          },
          "metadata": {}
        },
        {
          "output_type": "display_data",
          "data": {
            "image/png": "[encoded data removed]",
            "text/plain": [
              "<Figure size 576x396 with 1 Axes>"
            ]
          },
          "metadata": {}
        },
        {
          "output_type": "display_data",
          "data": {
            "image/png": "[encoded data removed]",
            "text/plain": [
              "<Figure size 576x396 with 1 Axes>"
            ]
          },
          "metadata": {}
        },
        {
          "output_type": "display_data",
          "data": {
            "image/png": "[encoded data removed]",
            "text/plain": [
              "<Figure size 576x396 with 1 Axes>"
            ]
          },
          "metadata": {}
        },
        {
          "output_type": "display_data",
          "data": {
            "image/png": "[encoded data removed]",
            "text/plain": [
              "<Figure size 576x396 with 1 Axes>"
            ]
          },
          "metadata": {}
        },
        {
          "output_type": "display_data",
          "data": {
            "image/png": "[encoded data removed]",
            "text/plain": [
              "<Figure size 576x396 with 1 Axes>"
            ]
          },
          "metadata": {}
        },
        {
          "output_type": "display_data",
          "data": {
            "image/png": "[encoded data removed]",
            "text/plain": [
              "<Figure size 576x396 with 1 Axes>"
            ]
          },
          "metadata": {}
        },
        {
          "output_type": "display_data",
          "data": {
            "image/png": "[encoded data removed]",
            "text/plain": [
              "<Figure size 576x396 with 1 Axes>"
            ]
          },
          "metadata": {}
        },
        {
          "output_type": "display_data",
          "data": {
            "image/png": "[encoded data removed]",
            "text/plain": [
              "<Figure size 576x396 with 1 Axes>"
            ]
          },
          "metadata": {}
        }
      ]
    },
    {
      "cell_type": "markdown",
      "source": [
        "## Creating training and testing set"
      ],
      "metadata": {
        "id": "QzBl1yL4p1l5"
      }
    },
    {
      "cell_type": "code",
      "source": [
        "split = int(X.shape[0]*0.70)\n",
        "\n",
        "X_ = X[:split,:]\n",
        "Y_ = Y[:split]\n",
        "\n",
        "XTest = X[split:,:]\n",
        "YTest = Y[split:]\n",
        "\n",
        "print(X_.shape,Y_.shape)\n",
        "print(XTest.shape,YTest.shape)"
      ],
      "metadata": {
        "colab": {
          "base_uri": "https://localhost:8080/"
        },
        "id": "vPRR7hHWhlyd",
        "outputId": "6a11a02f-e0b6-49f4-d3fe-ff74d677803a"
      },
      "execution_count": 244,
      "outputs": [
        {
          "output_type": "stream",
          "name": "stdout",
          "text": [
            "(57, 40, 40, 3) (57,)\n",
            "(25, 40, 40, 3) (25,)\n"
          ]
        }
      ]
    },
    {
      "cell_type": "code",
      "source": [
        "def softmax(a): # e^a(i)/ summation of e^a(i)\n",
        "  e_pa=np.exp(a) #vector if 'a' is a vector.\n",
        "  ans=e_pa/np.sum(e_pa,axis=1,keepdims=True)\n",
        "  return ans\n",
        "\n",
        "\n",
        "class NeuralNetwork:\n",
        "\n",
        "  def __init__(self,input_size,layers,output_size):\n",
        "    np.random.seed(0) #to retain the same initialisation everytime for different inputs\n",
        "    model={} #dictionary\n",
        "\n",
        "    model['W1'] = np.random.randn(input_size,layers[0]) \n",
        "    #randomly initialises from normal distribution\n",
        "    # and creates a matrix of size input_size x layer[0] i.e 3 x 4\n",
        "    model['b1'] =np.zeros((1,layers[0])) #bias\n",
        "\n",
        "    model['W2'] = np.random.randn(layers[0],layers[1]) \n",
        "    model['b2'] =np.zeros((1,layers[1])) #bias\n",
        "\n",
        "    model['W3'] = np.random.randn(layers[1],output_size) \n",
        "    model['b3'] =np.zeros((1,output_size)) #bias\n",
        "\n",
        "    self.model=model\n",
        "\n",
        "\n",
        "\n",
        "  #FORWARD PROPOGATION\n",
        "  def forward(self,x): \n",
        "\n",
        "    W1,W2,W3  = self.model['W1'],self.model['W2'],self.model['W3']\n",
        "    b1,b2,b3 = self.model['b1'],self.model['b2'],self.model['b3']\n",
        "\n",
        "    z1= np.dot(x,W1)+b1\n",
        "    a1= np.tanh(z1) #activation function. we can use either sigmoid or tanh or reLu\n",
        "\n",
        "    z2=np.dot(a1,W2)+b2\n",
        "    a2=np.tanh(z2)\n",
        "\n",
        "    z3=np.dot(a2,W3)+b3\n",
        "    y_ = softmax(z3) #how probable is each answer between 0 and 1\n",
        "\n",
        "    self.activation_outputs=(a1,a2,y_)\n",
        "    return y_\n",
        "\n",
        "  #BACKWARD PROPOGATION!\n",
        "  def backward(self,x,y,learning_rate=0.001):\n",
        "    W1,W2,W3  = self.model['W1'],self.model['W2'],self.model['W3']\n",
        "    b1,b2,b3 = self.model['b1'],self.model['b2'],self.model['b3']\n",
        "    m=x.shape[0]\n",
        "    a1,a2,y_ = self.activation_outputs\n",
        "\n",
        "    delta3= y_-y\n",
        "    dw3 = np.dot(a2.T,delta3)\n",
        "    db3= np.sum(delta3,axis=0)\n",
        "\n",
        "    delta2= (1-np.square(a2)) * np.dot(delta3,W3.T)\n",
        "    #derivative of tanh = 1 - (tanh)^2.....a2 is \n",
        "    dw2= np.dot(a1.T,delta2)\n",
        "    db2=np.sum(delta2,axis=0)\n",
        "\n",
        "    delta1 = (1-np.square(a1)) * np.dot(delta2,W2.T)\n",
        "    dw1= np.dot(x.T,delta1)\n",
        "    db1=np.sum(delta1,axis=0)\n",
        "\n",
        "    #Update the model parameters using Gradient Descent\n",
        "    self.model[\"W1\"] -= learning_rate*dw1\n",
        "    self.model[\"b1\"] -= learning_rate*db1\n",
        "\n",
        "    self.model[\"W2\"] -= learning_rate*dw2\n",
        "    self.model[\"b2\"] -= learning_rate*db2\n",
        "\n",
        "    self.model[\"W3\"] -= learning_rate*dw3\n",
        "    self.model[\"b3\"] -= learning_rate*db3 \n",
        "    \n",
        "    # :)\n",
        "\n",
        "  \n",
        "  def predict(self,x):\n",
        "    y_out=self.forward(x)\n",
        "\n",
        "    return np.argmax(y_out,axis=1)\n",
        "  \n",
        "  def summary(self):\n",
        "    W1,W2,W3  = self.model['W1'],self.model['W2'],self.model['W3']\n",
        "    a1,a2,y_ = self.activation_outputs\n",
        "\n",
        "    print(\"W1 \",W1.shape)\n",
        "    print(\"A1 \",a1.shape)\n",
        "\n",
        "    print(\"W2 \",W2.shape)\n",
        "    print(\"A2 \",a2.shape)\n",
        "\n",
        "    print(\"W3 \",W3.shape)\n",
        "    print(\"Y_ \",y_.shape)\n"
      ],
      "metadata": {
        "id": "mDrg0hJqo8HS"
      },
      "execution_count": 245,
      "outputs": []
    },
    {
      "cell_type": "code",
      "source": [
        "def one_hot(y,depth):\n",
        "  y_oht=np.zeros((y.shape[0],depth))\n",
        "  y_oht[np.arange(y.shape[0]),y]=1\n",
        "  return y_oht\n",
        "\n",
        "def loss(y_oht,p): #y_oht= one hot vectors of each example , p is the predicted probability\n",
        "  #we will use categorical cross entropy loss, as MSE loss is non-convex(has multiple minimas)\n",
        "  l = -np.mean(y_oht*np.log(p))\n",
        "  return l"
      ],
      "metadata": {
        "id": "TRW6T2_EtW1D"
      },
      "execution_count": 246,
      "outputs": []
    },
    {
      "cell_type": "code",
      "source": [
        "def train(X,Y,model,epochs,learning_rate,logs=True):\n",
        "  training_loss=[]\n",
        "\n",
        "  classes=3\n",
        "  Y_OHT= one_hot(Y,classes)\n",
        "\n",
        "  for ix in range(epochs):\n",
        "\n",
        "    Y_=model.forward(X)\n",
        "    l= loss(Y_OHT,Y_)\n",
        "    training_loss.append(l)\n",
        "    model.backward(X,Y_OHT,learning_rate)\n",
        "\n",
        "\n",
        "    if(logs):\n",
        "      print(\"Epoch %d Loss %.4f\"%(ix,l))\n",
        "\n",
        "  return training_loss"
      ],
      "metadata": {
        "id": "x0BsrXfkqEck"
      },
      "execution_count": 247,
      "outputs": []
    },
    {
      "cell_type": "code",
      "source": [
        "model = NeuralNetwork(input_size=4800,layers=[100,50],output_size=3)\n",
        "# 4800 input features( 40 x 40 x 3)\n",
        "# 2 hidden layers with 100 and 50 neurons respectively\n",
        "#1 output layer with 3 classes ( pikachu, meowth, bulbasaur)"
      ],
      "metadata": {
        "id": "nZlK3nV-tNEU"
      },
      "execution_count": 248,
      "outputs": []
    },
    {
      "cell_type": "code",
      "source": [
        "X=X.reshape(X.shape[0],-1) #flattening the image to a linear array to pass it through the model"
      ],
      "metadata": {
        "id": "_lDIoK5KtjVA"
      },
      "execution_count": 249,
      "outputs": []
    },
    {
      "cell_type": "code",
      "source": [
        "X.shape # 82 images of linear size 4800"
      ],
      "metadata": {
        "colab": {
          "base_uri": "https://localhost:8080/"
        },
        "id": "YwI5VVSGvhtl",
        "outputId": "dfd31c59-2c5d-4abf-e58c-8d74e833042d"
      },
      "execution_count": 250,
      "outputs": [
        {
          "output_type": "execute_result",
          "data": {
            "text/plain": [
              "(82, 4800)"
            ]
          },
          "metadata": {},
          "execution_count": 250
        }
      ]
    },
    {
      "cell_type": "code",
      "source": [
        "XTest = XTest.reshape(XTest.shape[0],-1)\n",
        "print(XTest.shape)"
      ],
      "metadata": {
        "colab": {
          "base_uri": "https://localhost:8080/"
        },
        "id": "xqGw97uWvnP8",
        "outputId": "0dfad6b7-edd8-43ad-d595-e9ae4f5d4bb8"
      },
      "execution_count": 251,
      "outputs": [
        {
          "output_type": "stream",
          "name": "stdout",
          "text": [
            "(25, 4800)\n"
          ]
        }
      ]
    },
    {
      "cell_type": "code",
      "source": [
        "l=train(X,Y,model,500,0.0002,logs=False)"
      ],
      "metadata": {
        "id": "dsp6rk4Rv3K0"
      },
      "execution_count": 252,
      "outputs": []
    },
    {
      "cell_type": "code",
      "source": [
        "plt.style.use(\"dark_background\")\n",
        "plt.plot(l)\n",
        "plt.title(\"Graph of Training loss vs. no. of epochs\")\n",
        "plt.xlabel(\"Epochs\")\n",
        "plt.ylabel(\"Loss\")\n",
        "plt.show()"
      ],
      "metadata": {
        "colab": {
          "base_uri": "https://localhost:8080/",
          "height": 376
        },
        "id": "3GPyRLZawIHa",
        "outputId": "8eb70254-cd6a-4d2c-e2d3-741d270417a4"
      },
      "execution_count": 253,
      "outputs": [
        {
          "output_type": "display_data",
          "data": {
            "image/png": "[encoded data removed]",
            "text/plain": [
              "<Figure size 576x396 with 1 Axes>"
            ]
          },
          "metadata": {}
        }
      ]
    },
    {
      "cell_type": "code",
      "source": [
        "def getAccuracy(X,Y,model):\n",
        "  outputs = model.predict(X)\n",
        "  acc= np.sum(Y==outputs)/Y.shape[0]\n",
        "  return acc\n",
        "\n",
        "print(\"Training Accuracy %.4f\"%(getAccuracy(X_.reshape(X_.shape[0],-1),Y_,model)))\n",
        "print(\"Testing Data accuracy %.4f\"%(getAccuracy(XTest.reshape(XTest.shape[0],-1),YTest,model)))"
      ],
      "metadata": {
        "colab": {
          "base_uri": "https://localhost:8080/"
        },
        "id": "Kxd6dKYSwt8t",
        "outputId": "e9cd5f21-1f7a-4e32-e596-0f7a6e635829"
      },
      "execution_count": 254,
      "outputs": [
        {
          "output_type": "stream",
          "name": "stdout",
          "text": [
            "Training Accuracy 1.0000\n",
            "Testing Data accuracy 1.0000\n"
          ]
        }
      ]
    },
    {
      "cell_type": "markdown",
      "source": [
        "#Visualising MisClassifications"
      ],
      "metadata": {
        "id": "PXaSEbKa2CLc"
      }
    },
    {
      "cell_type": "code",
      "source": [
        "from sklearn.metrics import classification_report,confusion_matrix"
      ],
      "metadata": {
        "id": "1lSSzc9S2Fo3"
      },
      "execution_count": 255,
      "outputs": []
    },
    {
      "cell_type": "code",
      "source": [
        "#written by prateek bhaiya\n",
        "import itertools\n",
        "def plot_confusion_matrix(cm, classes,\n",
        "                          normalize=False,\n",
        "                          title='Confusion matrix',\n",
        "                          cmap=plt.cm.Blues):\n",
        "    \"\"\"\n",
        "    This function prints and plots the confusion matrix.\n",
        "    Normalization can be applied by setting `normalize=True`.\n",
        "    \"\"\"\n",
        "    if normalize:\n",
        "        cm = cm.astype('float') / cm.sum(axis=1)[:, np.newaxis]\n",
        "        print(\"Normalized confusion matrix\")\n",
        "    else:\n",
        "        print('Confusion matrix, without normalization')\n",
        "\n",
        "    print(cm)\n",
        "\n",
        "    plt.imshow(cm, interpolation='nearest', cmap=cmap)\n",
        "    plt.title(title)\n",
        "    plt.colorbar()\n",
        "    tick_marks = np.arange(len(classes))\n",
        "    plt.xticks(tick_marks, classes, rotation=45)\n",
        "    plt.yticks(tick_marks, classes)\n",
        "\n",
        "    fmt = '.2f' if normalize else 'd'\n",
        "    thresh = cm.max() / 2.\n",
        "    for i, j in itertools.product(range(cm.shape[0]), range(cm.shape[1])):\n",
        "        plt.text(j, i, format(cm[i, j], fmt),\n",
        "                 horizontalalignment=\"center\",\n",
        "                 color=\"white\" if cm[i, j] > thresh else \"black\")\n",
        "\n",
        "    plt.ylabel('True label')\n",
        "    plt.xlabel('Predicted label')\n",
        "    plt.tight_layout()"
      ],
      "metadata": {
        "id": "GHYkgYjh2OUc"
      },
      "execution_count": 256,
      "outputs": []
    },
    {
      "cell_type": "code",
      "source": [
        "outputs =model.predict(X)\n",
        "cnf_matrix = confusion_matrix(outputs,Y)\n",
        "print(cnf_matrix)"
      ],
      "metadata": {
        "colab": {
          "base_uri": "https://localhost:8080/"
        },
        "id": "PLXQENwK20yD",
        "outputId": "d556bbfa-f922-4e7f-f317-4832b70ef5a1"
      },
      "execution_count": 257,
      "outputs": [
        {
          "output_type": "stream",
          "name": "stdout",
          "text": [
            "[[35  0  0]\n",
            " [ 0 21  0]\n",
            " [ 0  0 26]]\n"
          ]
        }
      ]
    },
    {
      "cell_type": "code",
      "source": [
        "plot_confusion_matrix(cnf_matrix,classes=[\"Pikachu\",\"Bulbasaur\",\"Meowth\"],title=\"Confusion Matrix\")"
      ],
      "metadata": {
        "colab": {
          "base_uri": "https://localhost:8080/",
          "height": 475
        },
        "id": "iXmye31I4Jml",
        "outputId": "9df11284-38c3-422d-fd95-e4430a44121f"
      },
      "execution_count": 258,
      "outputs": [
        {
          "output_type": "stream",
          "name": "stdout",
          "text": [
            "Confusion matrix, without normalization\n",
            "[[35  0  0]\n",
            " [ 0 21  0]\n",
            " [ 0  0 26]]\n"
          ]
        },
        {
          "output_type": "display_data",
          "data": {
            "image/png": "[encoded data removed]",
            "text/plain": [
              "<Figure size 576x396 with 2 Axes>"
            ]
          },
          "metadata": {}
        }
      ]
    },
    {
      "cell_type": "code",
      "source": [
        "print(classification_report(outputs,Y))"
      ],
      "metadata": {
        "colab": {
          "base_uri": "https://localhost:8080/"
        },
        "id": "2jbED5PM4VB9",
        "outputId": "2c47f1d1-f346-4917-b8ab-2fb051ee1940"
      },
      "execution_count": 259,
      "outputs": [
        {
          "output_type": "stream",
          "name": "stdout",
          "text": [
            "              precision    recall  f1-score   support\n",
            "\n",
            "           0       1.00      1.00      1.00        35\n",
            "           1       1.00      1.00      1.00        21\n",
            "           2       1.00      1.00      1.00        26\n",
            "\n",
            "    accuracy                           1.00        82\n",
            "   macro avg       1.00      1.00      1.00        82\n",
            "weighted avg       1.00      1.00      1.00        82\n",
            "\n"
          ]
        }
      ]
    },
    {
      "cell_type": "code",
      "source": [
        "# PRECISION is for example the model classified that there are 40 pikachus but actually there are 30 pikachys. so precision is 30/40\n",
        "# recall is how many pikachu are selected   \n",
        "# f1 score is harmonic mean of precision and recall"
      ],
      "metadata": {
        "id": "959gVYOs5ZPJ"
      },
      "execution_count": 260,
      "outputs": []
    },
    {
      "cell_type": "code",
      "source": [
        "test_outputs = model.predict(XTest)\n",
        "print(classification_report(test_outputs,YTest))"
      ],
      "metadata": {
        "colab": {
          "base_uri": "https://localhost:8080/"
        },
        "id": "jb-Gon1R6yZk",
        "outputId": "f1f27dfe-a70b-4bdd-9c38-e22e657150fc"
      },
      "execution_count": 261,
      "outputs": [
        {
          "output_type": "stream",
          "name": "stdout",
          "text": [
            "              precision    recall  f1-score   support\n",
            "\n",
            "           0       1.00      1.00      1.00         9\n",
            "           1       1.00      1.00      1.00         6\n",
            "           2       1.00      1.00      1.00        10\n",
            "\n",
            "    accuracy                           1.00        25\n",
            "   macro avg       1.00      1.00      1.00        25\n",
            "weighted avg       1.00      1.00      1.00        25\n",
            "\n"
          ]
        }
      ]
    },
    {
      "cell_type": "code",
      "source": [
        "cnf_matrix = confusion_matrix(test_outputs,YTest)\n",
        "print(cnf_matrix)"
      ],
      "metadata": {
        "colab": {
          "base_uri": "https://localhost:8080/"
        },
        "id": "EIuGoDGv6_-6",
        "outputId": "f2979bec-6c3a-4582-a6f3-3cd4d9b10a74"
      },
      "execution_count": 262,
      "outputs": [
        {
          "output_type": "stream",
          "name": "stdout",
          "text": [
            "[[ 9  0  0]\n",
            " [ 0  6  0]\n",
            " [ 0  0 10]]\n"
          ]
        }
      ]
    },
    {
      "cell_type": "code",
      "source": [
        "plot_confusion_matrix(cnf_matrix,classes=[\"Pikachu\",\"Bulbasaur\",\"Meowth\"],title=\"Confusion Matrix\")"
      ],
      "metadata": {
        "colab": {
          "base_uri": "https://localhost:8080/",
          "height": 475
        },
        "id": "IJM7E_9C7JwW",
        "outputId": "2738c722-cfb3-4d90-ff79-4b98a641123f"
      },
      "execution_count": 263,
      "outputs": [
        {
          "output_type": "stream",
          "name": "stdout",
          "text": [
            "Confusion matrix, without normalization\n",
            "[[ 9  0  0]\n",
            " [ 0  6  0]\n",
            " [ 0  0 10]]\n"
          ]
        },
        {
          "output_type": "display_data",
          "data": {
            "image/png": "[encoded data removed]",
            "text/plain": [
              "<Figure size 576x396 with 2 Axes>"
            ]
          },
          "metadata": {}
        }
      ]
    },
    {
      "cell_type": "code",
      "source": [
        "for i in range(Y.shape[0]):\n",
        "  if Y[i]!=outputs[i]:\n",
        "    drawimg(X[i].reshape(40,40,3),Y[i])\n",
        "    print(\" Prediction %d %s\"%(i,label2pokemon[outputs[i]]))"
      ],
      "metadata": {
        "id": "OAHZ2OPN7Nn1"
      },
      "execution_count": 264,
      "outputs": []
    },
    {
      "cell_type": "code",
      "source": [
        ""
      ],
      "metadata": {
        "id": "ZakXHi868SLa"
      },
      "execution_count": null,
      "outputs": []
    }
  ]
}