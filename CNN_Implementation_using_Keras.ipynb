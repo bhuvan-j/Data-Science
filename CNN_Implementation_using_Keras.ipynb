{
  "nbformat": 4,
  "nbformat_minor": 0,
  "metadata": {
    "colab": {
      "name": "CNN Implementation using Keras.ipynb",
      "provenance": [],
      "mount_file_id": "1dh8EaAN2Uql13K3peX729YLLAGJyIHgC",
      "authorship_tag": "ABX9TyOg9mwqT6joo8HxtoCxP4X/",
      "include_colab_link": true
    },
    "kernelspec": {
      "name": "python3",
      "display_name": "Python 3"
    },
    "language_info": {
      "name": "python"
    }
  },
  "cells": [
    {
      "cell_type": "markdown",
      "metadata": {
        "id": "view-in-github",
        "colab_type": "text"
      },
      "source": [
        "<a href=\"https://colab.research.google.com/github/bhuvan-j/Data-Science/blob/main/CNN_Implementation_using_Keras.ipynb\" target=\"_parent\"><img src=\"https://colab.research.google.com/assets/colab-badge.svg\" alt=\"Open In Colab\"/></a>"
      ]
    },
    {
      "cell_type": "markdown",
      "source": [
        "CNN on MNIST Fashion Dataset"
      ],
      "metadata": {
        "id": "ZleTjFrd9-iT"
      }
    },
    {
      "cell_type": "code",
      "source": [
        "import pandas as pd\n",
        "import numpy as np\n",
        "from keras.models import Sequential\n",
        "from keras.layers import Input,Convolution2D,MaxPooling2D,Flatten,Dense,Dropout\n",
        "from keras.utils import np_utils\n",
        "import tensorflow\n",
        "import matplotlib.pyplot as plt\n"
      ],
      "metadata": {
        "id": "9MyLfqsv9o_w"
      },
      "execution_count": 17,
      "outputs": []
    },
    {
      "cell_type": "code",
      "execution_count": 4,
      "metadata": {
        "id": "nOlY1QSA9n1-"
      },
      "outputs": [],
      "source": [
        "#Data Preparation\n",
        "x= pd.read_csv(\"/content/drive/MyDrive/Colab Notebooks/fashion-mnist.csv\")\n",
        "X_ = np.array(x)"
      ]
    },
    {
      "cell_type": "code",
      "source": [
        "X = X_[:,1:]\n",
        "X = X/255.0\n",
        "y = X_[:,0]\n",
        "print(X.shape,y.shape) #10k images and 784 features"
      ],
      "metadata": {
        "colab": {
          "base_uri": "https://localhost:8080/"
        },
        "id": "sMfGOJp6-XwC",
        "outputId": "b8542978-6ef5-4d47-fc40-6d934e79d77b"
      },
      "execution_count": 7,
      "outputs": [
        {
          "output_type": "stream",
          "name": "stdout",
          "text": [
            "(10000, 784) (10000,)\n"
          ]
        }
      ]
    },
    {
      "cell_type": "code",
      "source": [
        "np.unique(y,return_counts=True) #means there are 10 classes in y."
      ],
      "metadata": {
        "colab": {
          "base_uri": "https://localhost:8080/"
        },
        "id": "T5SoXvxT_W7W",
        "outputId": "df87a71e-ecdf-4bc0-9e32-0b01f42f80b4"
      },
      "execution_count": 11,
      "outputs": [
        {
          "output_type": "execute_result",
          "data": {
            "text/plain": [
              "(array([0, 1, 2, 3, 4, 5, 6, 7, 8, 9]),\n",
              " array([1000, 1000, 1000, 1000, 1000, 1000, 1000, 1000, 1000, 1000]))"
            ]
          },
          "metadata": {},
          "execution_count": 11
        }
      ]
    },
    {
      "cell_type": "code",
      "source": [
        "X_train = X.reshape((10000,28,28,1))\n",
        "Y_train = np_utils.to_categorical(y)"
      ],
      "metadata": {
        "id": "vfyVZ9lZ-eOp"
      },
      "execution_count": 12,
      "outputs": []
    },
    {
      "cell_type": "code",
      "source": [
        "print(X_train.shape,Y_train.shape)"
      ],
      "metadata": {
        "colab": {
          "base_uri": "https://localhost:8080/"
        },
        "id": "OjYFL1zG-8hn",
        "outputId": "7fcbc9e7-10cf-465f-8213-7224255fbb89"
      },
      "execution_count": 13,
      "outputs": [
        {
          "output_type": "stream",
          "name": "stdout",
          "text": [
            "(10000, 28, 28, 1) (10000, 10)\n"
          ]
        }
      ]
    },
    {
      "cell_type": "code",
      "source": [
        "Y_train[0]"
      ],
      "metadata": {
        "colab": {
          "base_uri": "https://localhost:8080/"
        },
        "id": "23vB9VM9_uRi",
        "outputId": "bb797b39-c8ac-4096-f284-062fa54dc834"
      },
      "execution_count": 15,
      "outputs": [
        {
          "output_type": "execute_result",
          "data": {
            "text/plain": [
              "array([1., 0., 0., 0., 0., 0., 0., 0., 0., 0.], dtype=float32)"
            ]
          },
          "metadata": {},
          "execution_count": 15
        }
      ]
    },
    {
      "cell_type": "code",
      "source": [
        "plt.imshow(X_train[8].reshape(28,28),cmap=\"gray\")\n",
        "plt.axis(False)\n",
        "plt.show()\n"
      ],
      "metadata": {
        "colab": {
          "base_uri": "https://localhost:8080/",
          "height": 247
        },
        "id": "EY_DchzC__Dx",
        "outputId": "506ecf22-c486-4659-fcfc-eebc73fcc3d8"
      },
      "execution_count": 24,
      "outputs": [
        {
          "output_type": "display_data",
          "data": {
            "image/png": "[encoded data removed]",
            "text/plain": [
              "<Figure size 432x288 with 1 Axes>"
            ]
          },
          "metadata": {
            "needs_background": "light"
          }
        }
      ]
    },
    {
      "cell_type": "code",
      "source": [
        "#CNN Model using Keras"
      ],
      "metadata": {
        "id": "oGzWA6U4AM-9"
      },
      "execution_count": 25,
      "outputs": []
    },
    {
      "cell_type": "code",
      "source": [
        "model = Sequential()\n",
        "model.add(Convolution2D(32,(3,3),activation=\"relu\",input_shape=(28,28,1)))\n",
        "model.add(Convolution2D(64,(3,3),activation=\"relu\"))\n",
        "model.add( Dropout(0.25) )\n",
        "model.add(MaxPooling2D(2,2))\n",
        "model.add(Convolution2D(32,(5,5),activation=\"relu\"))\n",
        "model.add(Convolution2D(8,(5,5),activation=\"relu\"))\n",
        "model.add(Flatten())\n",
        "model.add(Dense(10,activation=\"softmax\"))\n",
        "model.summary()\n",
        "\n",
        "\n"
      ],
      "metadata": {
        "colab": {
          "base_uri": "https://localhost:8080/"
        },
        "id": "9KWODkSlAv0Q",
        "outputId": "01377c40-dd86-4f42-f004-ab2da14f9e95"
      },
      "execution_count": 26,
      "outputs": [
        {
          "output_type": "stream",
          "name": "stdout",
          "text": [
            "Model: \"sequential\"\n",
            "_________________________________________________________________\n",
            " Layer (type)                Output Shape              Param #   \n",
            "=================================================================\n",
            " conv2d (Conv2D)             (None, 26, 26, 32)        320       \n",
            "                                                                 \n",
            " conv2d_1 (Conv2D)           (None, 24, 24, 64)        18496     \n",
            "                                                                 \n",
            " dropout (Dropout)           (None, 24, 24, 64)        0         \n",
            "                                                                 \n",
            " max_pooling2d (MaxPooling2D  (None, 12, 12, 64)       0         \n",
            " )                                                               \n",
            "                                                                 \n",
            " conv2d_2 (Conv2D)           (None, 8, 8, 32)          51232     \n",
            "                                                                 \n",
            " conv2d_3 (Conv2D)           (None, 4, 4, 8)           6408      \n",
            "                                                                 \n",
            " flatten (Flatten)           (None, 128)               0         \n",
            "                                                                 \n",
            " dense (Dense)               (None, 10)                1290      \n",
            "                                                                 \n",
            "=================================================================\n",
            "Total params: 77,746\n",
            "Trainable params: 77,746\n",
            "Non-trainable params: 0\n",
            "_________________________________________________________________\n"
          ]
        }
      ]
    },
    {
      "cell_type": "code",
      "source": [
        "model.compile(loss=\"categorical_crossentropy\",optimizer=\"adam\",metrics=[\"accuracy\"])"
      ],
      "metadata": {
        "id": "FpQXFCkFCGha"
      },
      "execution_count": 30,
      "outputs": []
    },
    {
      "cell_type": "code",
      "source": [
        "hist = model.fit(X_train,Y_train,epochs=20,shuffle=True,batch_size=256,validation_split=0.2)"
      ],
      "metadata": {
        "colab": {
          "base_uri": "https://localhost:8080/"
        },
        "id": "y0zjpzqvC_BC",
        "outputId": "fa167f30-42bb-474c-8257-d67396bc9ff9"
      },
      "execution_count": 31,
      "outputs": [
        {
          "output_type": "stream",
          "name": "stdout",
          "text": [
            "Epoch 1/20\n",
            "32/32 [==============================] - 32s 990ms/step - loss: 1.6762 - accuracy: 0.4111 - val_loss: 1.0663 - val_accuracy: 0.6040\n",
            "Epoch 2/20\n",
            "32/32 [==============================] - 37s 1s/step - loss: 0.8662 - accuracy: 0.6911 - val_loss: 0.7595 - val_accuracy: 0.7175\n",
            "Epoch 3/20\n",
            "32/32 [==============================] - 46s 1s/step - loss: 0.7052 - accuracy: 0.7400 - val_loss: 0.6769 - val_accuracy: 0.7465\n",
            "Epoch 4/20\n",
            "32/32 [==============================] - 44s 1s/step - loss: 0.6145 - accuracy: 0.7697 - val_loss: 0.6650 - val_accuracy: 0.7730\n",
            "Epoch 5/20\n",
            "32/32 [==============================] - 29s 913ms/step - loss: 0.5726 - accuracy: 0.7916 - val_loss: 0.5737 - val_accuracy: 0.7960\n",
            "Epoch 6/20\n",
            "32/32 [==============================] - 29s 915ms/step - loss: 0.5203 - accuracy: 0.8095 - val_loss: 0.5484 - val_accuracy: 0.8060\n",
            "Epoch 7/20\n",
            "32/32 [==============================] - 30s 937ms/step - loss: 0.4889 - accuracy: 0.8216 - val_loss: 0.5247 - val_accuracy: 0.8170\n",
            "Epoch 8/20\n",
            "32/32 [==============================] - 30s 931ms/step - loss: 0.4588 - accuracy: 0.8336 - val_loss: 0.5028 - val_accuracy: 0.8330\n",
            "Epoch 9/20\n",
            "32/32 [==============================] - 30s 926ms/step - loss: 0.4413 - accuracy: 0.8406 - val_loss: 0.4798 - val_accuracy: 0.8340\n",
            "Epoch 10/20\n",
            "32/32 [==============================] - 29s 914ms/step - loss: 0.4201 - accuracy: 0.8456 - val_loss: 0.4908 - val_accuracy: 0.8200\n",
            "Epoch 11/20\n",
            "32/32 [==============================] - 31s 955ms/step - loss: 0.3988 - accuracy: 0.8570 - val_loss: 0.4710 - val_accuracy: 0.8285\n",
            "Epoch 12/20\n",
            "32/32 [==============================] - 29s 914ms/step - loss: 0.3797 - accuracy: 0.8662 - val_loss: 0.4367 - val_accuracy: 0.8595\n",
            "Epoch 13/20\n",
            "32/32 [==============================] - 29s 915ms/step - loss: 0.3678 - accuracy: 0.8687 - val_loss: 0.4185 - val_accuracy: 0.8545\n",
            "Epoch 14/20\n",
            "32/32 [==============================] - 29s 917ms/step - loss: 0.3494 - accuracy: 0.8746 - val_loss: 0.3997 - val_accuracy: 0.8620\n",
            "Epoch 15/20\n",
            "32/32 [==============================] - 29s 916ms/step - loss: 0.3551 - accuracy: 0.8716 - val_loss: 0.4199 - val_accuracy: 0.8515\n",
            "Epoch 16/20\n",
            "32/32 [==============================] - 30s 932ms/step - loss: 0.3412 - accuracy: 0.8767 - val_loss: 0.3900 - val_accuracy: 0.8665\n",
            "Epoch 17/20\n",
            "32/32 [==============================] - 29s 915ms/step - loss: 0.3137 - accuracy: 0.8905 - val_loss: 0.3806 - val_accuracy: 0.8725\n",
            "Epoch 18/20\n",
            "32/32 [==============================] - 30s 923ms/step - loss: 0.3024 - accuracy: 0.8901 - val_loss: 0.3757 - val_accuracy: 0.8685\n",
            "Epoch 19/20\n",
            "32/32 [==============================] - 30s 924ms/step - loss: 0.2918 - accuracy: 0.8957 - val_loss: 0.3918 - val_accuracy: 0.8660\n",
            "Epoch 20/20\n",
            "32/32 [==============================] - 29s 919ms/step - loss: 0.2883 - accuracy: 0.8949 - val_loss: 0.3886 - val_accuracy: 0.8640\n"
          ]
        }
      ]
    },
    {
      "cell_type": "code",
      "source": [
        "plt.figure(0)\n",
        "plt.plot(hist.history[\"loss\"],'g')\n",
        "plt.plot(hist.history[\"val_loss\"] , 'b')\n",
        "plt.plot(hist.history[\"accuracy\"],'r')\n",
        "plt.plot(hist.history[\"val_accuracy\"],'black')\n",
        "plt.show()\n"
      ],
      "metadata": {
        "colab": {
          "base_uri": "https://localhost:8080/",
          "height": 265
        },
        "id": "7mfZeyW_DPwP",
        "outputId": "9a9ff50d-83ab-4e1d-d77d-aabc6ef94d1f"
      },
      "execution_count": 32,
      "outputs": [
        {
          "output_type": "display_data",
          "data": {
            "image/png": "[encoded data removed]",
            "text/plain": [
              "<Figure size 432x288 with 1 Axes>"
            ]
          },
          "metadata": {
            "needs_background": "light"
          }
        }
      ]
    },
    {
      "cell_type": "code",
      "source": [
        ""
      ],
      "metadata": {
        "id": "wshpSwZVGMj0"
      },
      "execution_count": null,
      "outputs": []
    }
  ]
}