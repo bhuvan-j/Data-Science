{
  "nbformat": 4,
  "nbformat_minor": 0,
  "metadata": {
    "colab": {
      "name": "Covid-19 Using CNN.ipynb",
      "provenance": [],
      "mount_file_id": "1V5D7rp-uJhalh-UXWCpDdpNpWcetTNn8",
      "authorship_tag": "ABX9TyMezNy4yyBgaQSrBoVXkcwX",
      "include_colab_link": true
    },
    "kernelspec": {
      "name": "python3",
      "display_name": "Python 3"
    },
    "language_info": {
      "name": "python"
    },
    "accelerator": "GPU"
  },
  "cells": [
    {
      "cell_type": "markdown",
      "metadata": {
        "id": "view-in-github",
        "colab_type": "text"
      },
      "source": [
        "<a href=\"https://colab.research.google.com/github/bhuvan-j/Data-Science/blob/main/Covid_19_Using_CNN.ipynb\" target=\"_parent\"><img src=\"https://colab.research.google.com/assets/colab-badge.svg\" alt=\"Open In Colab\"/></a>"
      ]
    },
    {
      "cell_type": "code",
      "execution_count": null,
      "metadata": {
        "id": "sDIaHYQQKGFU"
      },
      "outputs": [],
      "source": [
        "import pandas as pd"
      ]
    },
    {
      "cell_type": "markdown",
      "source": [
        "##Create Data for the positive samples"
      ],
      "metadata": {
        "id": "iuEcnQ_wTLwB"
      }
    },
    {
      "cell_type": "code",
      "source": [
        "\n",
        "FILE_PATH=\"/content/drive/MyDrive/Colab Notebooks/chestxray/metadata.csv\"\n",
        "IMAGES_PATH = \"/content/drive/MyDrive/Colab Notebooks/chestxray/images\"\n"
      ],
      "metadata": {
        "id": "jf4xMexcKaAV"
      },
      "execution_count": null,
      "outputs": []
    },
    {
      "cell_type": "code",
      "source": [
        "df = pd.read_csv(FILE_PATH)\n",
        "print(df.shape)"
      ],
      "metadata": {
        "colab": {
          "base_uri": "https://localhost:8080/"
        },
        "id": "umOdd5boRFYs",
        "outputId": "9e457587-5a89-465f-f0b1-0bbec8b818b3"
      },
      "execution_count": null,
      "outputs": [
        {
          "output_type": "stream",
          "name": "stdout",
          "text": [
            "(950, 30)\n"
          ]
        }
      ]
    },
    {
      "cell_type": "code",
      "source": [
        "df.head()"
      ],
      "metadata": {
        "colab": {
          "base_uri": "https://localhost:8080/",
          "height": 635
        },
        "id": "a6Xqk9sUTiZ-",
        "outputId": "4b345ddd-970a-4c92-ae71-29737329eafd"
      },
      "execution_count": null,
      "outputs": [
        {
          "output_type": "execute_result",
          "data": {
            "text/html": [
              "\n",
              "  <div id=\"df-72e4875e-cfc9-489a-946e-e8a43025953a\">\n",
              "    <div class=\"colab-df-container\">\n",
              "      <div>\n",
              "<style scoped>\n",
              "    .dataframe tbody tr th:only-of-type {\n",
              "        vertical-align: middle;\n",
              "    }\n",
              "\n",
              "    .dataframe tbody tr th {\n",
              "        vertical-align: top;\n",
              "    }\n",
              "\n",
              "    .dataframe thead th {\n",
              "        text-align: right;\n",
              "    }\n",
              "</style>\n",
              "<table border=\"1\" class=\"dataframe\">\n",
              "  <thead>\n",
              "    <tr style=\"text-align: right;\">\n",
              "      <th></th>\n",
              "      <th>patientid</th>\n",
              "      <th>offset</th>\n",
              "      <th>sex</th>\n",
              "      <th>age</th>\n",
              "      <th>finding</th>\n",
              "      <th>RT_PCR_positive</th>\n",
              "      <th>survival</th>\n",
              "      <th>intubated</th>\n",
              "      <th>intubation_present</th>\n",
              "      <th>went_icu</th>\n",
              "      <th>in_icu</th>\n",
              "      <th>needed_supplemental_O2</th>\n",
              "      <th>extubated</th>\n",
              "      <th>temperature</th>\n",
              "      <th>pO2_saturation</th>\n",
              "      <th>leukocyte_count</th>\n",
              "      <th>neutrophil_count</th>\n",
              "      <th>lymphocyte_count</th>\n",
              "      <th>view</th>\n",
              "      <th>modality</th>\n",
              "      <th>date</th>\n",
              "      <th>location</th>\n",
              "      <th>folder</th>\n",
              "      <th>filename</th>\n",
              "      <th>doi</th>\n",
              "      <th>url</th>\n",
              "      <th>license</th>\n",
              "      <th>clinical_notes</th>\n",
              "      <th>other_notes</th>\n",
              "      <th>Unnamed: 29</th>\n",
              "    </tr>\n",
              "  </thead>\n",
              "  <tbody>\n",
              "    <tr>\n",
              "      <th>0</th>\n",
              "      <td>2</td>\n",
              "      <td>0.0</td>\n",
              "      <td>M</td>\n",
              "      <td>65.0</td>\n",
              "      <td>Pneumonia/Viral/COVID-19</td>\n",
              "      <td>Y</td>\n",
              "      <td>Y</td>\n",
              "      <td>N</td>\n",
              "      <td>N</td>\n",
              "      <td>N</td>\n",
              "      <td>N</td>\n",
              "      <td>Y</td>\n",
              "      <td>NaN</td>\n",
              "      <td>NaN</td>\n",
              "      <td>NaN</td>\n",
              "      <td>NaN</td>\n",
              "      <td>NaN</td>\n",
              "      <td>NaN</td>\n",
              "      <td>PA</td>\n",
              "      <td>X-ray</td>\n",
              "      <td>January 22, 2020</td>\n",
              "      <td>Cho Ray Hospital, Ho Chi Minh City, Vietnam</td>\n",
              "      <td>images</td>\n",
              "      <td>auntminnie-a-2020_01_28_23_51_6665_2020_01_28_...</td>\n",
              "      <td>10.1056/nejmc2001272</td>\n",
              "      <td>https://www.nejm.org/doi/full/10.1056/NEJMc200...</td>\n",
              "      <td>NaN</td>\n",
              "      <td>On January 22, 2020, a 65-year-old man with a ...</td>\n",
              "      <td>NaN</td>\n",
              "      <td>NaN</td>\n",
              "    </tr>\n",
              "    <tr>\n",
              "      <th>1</th>\n",
              "      <td>2</td>\n",
              "      <td>3.0</td>\n",
              "      <td>M</td>\n",
              "      <td>65.0</td>\n",
              "      <td>Pneumonia/Viral/COVID-19</td>\n",
              "      <td>Y</td>\n",
              "      <td>Y</td>\n",
              "      <td>N</td>\n",
              "      <td>N</td>\n",
              "      <td>N</td>\n",
              "      <td>N</td>\n",
              "      <td>Y</td>\n",
              "      <td>NaN</td>\n",
              "      <td>NaN</td>\n",
              "      <td>NaN</td>\n",
              "      <td>NaN</td>\n",
              "      <td>NaN</td>\n",
              "      <td>NaN</td>\n",
              "      <td>PA</td>\n",
              "      <td>X-ray</td>\n",
              "      <td>January 25, 2020</td>\n",
              "      <td>Cho Ray Hospital, Ho Chi Minh City, Vietnam</td>\n",
              "      <td>images</td>\n",
              "      <td>auntminnie-b-2020_01_28_23_51_6665_2020_01_28_...</td>\n",
              "      <td>10.1056/nejmc2001272</td>\n",
              "      <td>https://www.nejm.org/doi/full/10.1056/NEJMc200...</td>\n",
              "      <td>NaN</td>\n",
              "      <td>On January 22, 2020, a 65-year-old man with a ...</td>\n",
              "      <td>NaN</td>\n",
              "      <td>NaN</td>\n",
              "    </tr>\n",
              "    <tr>\n",
              "      <th>2</th>\n",
              "      <td>2</td>\n",
              "      <td>5.0</td>\n",
              "      <td>M</td>\n",
              "      <td>65.0</td>\n",
              "      <td>Pneumonia/Viral/COVID-19</td>\n",
              "      <td>Y</td>\n",
              "      <td>Y</td>\n",
              "      <td>N</td>\n",
              "      <td>N</td>\n",
              "      <td>N</td>\n",
              "      <td>N</td>\n",
              "      <td>Y</td>\n",
              "      <td>NaN</td>\n",
              "      <td>NaN</td>\n",
              "      <td>NaN</td>\n",
              "      <td>NaN</td>\n",
              "      <td>NaN</td>\n",
              "      <td>NaN</td>\n",
              "      <td>PA</td>\n",
              "      <td>X-ray</td>\n",
              "      <td>January 27, 2020</td>\n",
              "      <td>Cho Ray Hospital, Ho Chi Minh City, Vietnam</td>\n",
              "      <td>images</td>\n",
              "      <td>auntminnie-c-2020_01_28_23_51_6665_2020_01_28_...</td>\n",
              "      <td>10.1056/nejmc2001272</td>\n",
              "      <td>https://www.nejm.org/doi/full/10.1056/NEJMc200...</td>\n",
              "      <td>NaN</td>\n",
              "      <td>On January 22, 2020, a 65-year-old man with a ...</td>\n",
              "      <td>NaN</td>\n",
              "      <td>NaN</td>\n",
              "    </tr>\n",
              "    <tr>\n",
              "      <th>3</th>\n",
              "      <td>2</td>\n",
              "      <td>6.0</td>\n",
              "      <td>M</td>\n",
              "      <td>65.0</td>\n",
              "      <td>Pneumonia/Viral/COVID-19</td>\n",
              "      <td>Y</td>\n",
              "      <td>Y</td>\n",
              "      <td>N</td>\n",
              "      <td>N</td>\n",
              "      <td>N</td>\n",
              "      <td>N</td>\n",
              "      <td>Y</td>\n",
              "      <td>NaN</td>\n",
              "      <td>NaN</td>\n",
              "      <td>NaN</td>\n",
              "      <td>NaN</td>\n",
              "      <td>NaN</td>\n",
              "      <td>NaN</td>\n",
              "      <td>PA</td>\n",
              "      <td>X-ray</td>\n",
              "      <td>January 28, 2020</td>\n",
              "      <td>Cho Ray Hospital, Ho Chi Minh City, Vietnam</td>\n",
              "      <td>images</td>\n",
              "      <td>auntminnie-d-2020_01_28_23_51_6665_2020_01_28_...</td>\n",
              "      <td>10.1056/nejmc2001272</td>\n",
              "      <td>https://www.nejm.org/doi/full/10.1056/NEJMc200...</td>\n",
              "      <td>NaN</td>\n",
              "      <td>On January 22, 2020, a 65-year-old man with a ...</td>\n",
              "      <td>NaN</td>\n",
              "      <td>NaN</td>\n",
              "    </tr>\n",
              "    <tr>\n",
              "      <th>4</th>\n",
              "      <td>4</td>\n",
              "      <td>0.0</td>\n",
              "      <td>F</td>\n",
              "      <td>52.0</td>\n",
              "      <td>Pneumonia/Viral/COVID-19</td>\n",
              "      <td>Y</td>\n",
              "      <td>NaN</td>\n",
              "      <td>N</td>\n",
              "      <td>N</td>\n",
              "      <td>N</td>\n",
              "      <td>N</td>\n",
              "      <td>N</td>\n",
              "      <td>NaN</td>\n",
              "      <td>NaN</td>\n",
              "      <td>NaN</td>\n",
              "      <td>NaN</td>\n",
              "      <td>NaN</td>\n",
              "      <td>NaN</td>\n",
              "      <td>PA</td>\n",
              "      <td>X-ray</td>\n",
              "      <td>January 25, 2020</td>\n",
              "      <td>Changhua Christian Hospital, Changhua City, Ta...</td>\n",
              "      <td>images</td>\n",
              "      <td>nejmc2001573_f1a.jpeg</td>\n",
              "      <td>10.1056/NEJMc2001573</td>\n",
              "      <td>https://www.nejm.org/doi/full/10.1056/NEJMc200...</td>\n",
              "      <td>NaN</td>\n",
              "      <td>diffuse infiltrates in the bilateral lower lungs</td>\n",
              "      <td>NaN</td>\n",
              "      <td>NaN</td>\n",
              "    </tr>\n",
              "  </tbody>\n",
              "</table>\n",
              "</div>\n",
              "      <button class=\"colab-df-convert\" onclick=\"convertToInteractive('df-72e4875e-cfc9-489a-946e-e8a43025953a')\"\n",
              "              title=\"Convert this dataframe to an interactive table.\"\n",
              "              style=\"display:none;\">\n",
              "        \n",
              "  <svg xmlns=\"http://www.w3.org/2000/svg\" height=\"24px\"viewBox=\"0 0 24 24\"\n",
              "       width=\"24px\">\n",
              "    <path d=\"M0 0h24v24H0V0z\" fill=\"none\"/>\n",
              "    <path d=\"M18.56 5.44l.94 2.06.94-2.06 2.06-.94-2.06-.94-.94-2.06-.94 2.06-2.06.94zm-11 1L8.5 8.5l.94-2.06 2.06-.94-2.06-.94L8.5 2.5l-.94 2.06-2.06.94zm10 10l.94 2.06.94-2.06 2.06-.94-2.06-.94-.94-2.06-.94 2.06-2.06.94z\"/><path d=\"M17.41 7.96l-1.37-1.37c-.4-.4-.92-.59-1.43-.59-.52 0-1.04.2-1.43.59L10.3 9.45l-7.72 7.72c-.78.78-.78 2.05 0 2.83L4 21.41c.39.39.9.59 1.41.59.51 0 1.02-.2 1.41-.59l7.78-7.78 2.81-2.81c.8-.78.8-2.07 0-2.86zM5.41 20L4 18.59l7.72-7.72 1.47 1.35L5.41 20z\"/>\n",
              "  </svg>\n",
              "      </button>\n",
              "      \n",
              "  <style>\n",
              "    .colab-df-container {\n",
              "      display:flex;\n",
              "      flex-wrap:wrap;\n",
              "      gap: 12px;\n",
              "    }\n",
              "\n",
              "    .colab-df-convert {\n",
              "      background-color: #E8F0FE;\n",
              "      border: none;\n",
              "      border-radius: 50%;\n",
              "      cursor: pointer;\n",
              "      display: none;\n",
              "      fill: #1967D2;\n",
              "      height: 32px;\n",
              "      padding: 0 0 0 0;\n",
              "      width: 32px;\n",
              "    }\n",
              "\n",
              "    .colab-df-convert:hover {\n",
              "      background-color: #E2EBFA;\n",
              "      box-shadow: 0px 1px 2px rgba(60, 64, 67, 0.3), 0px 1px 3px 1px rgba(60, 64, 67, 0.15);\n",
              "      fill: #174EA6;\n",
              "    }\n",
              "\n",
              "    [theme=dark] .colab-df-convert {\n",
              "      background-color: #3B4455;\n",
              "      fill: #D2E3FC;\n",
              "    }\n",
              "\n",
              "    [theme=dark] .colab-df-convert:hover {\n",
              "      background-color: #434B5C;\n",
              "      box-shadow: 0px 1px 3px 1px rgba(0, 0, 0, 0.15);\n",
              "      filter: drop-shadow(0px 1px 2px rgba(0, 0, 0, 0.3));\n",
              "      fill: #FFFFFF;\n",
              "    }\n",
              "  </style>\n",
              "\n",
              "      <script>\n",
              "        const buttonEl =\n",
              "          document.querySelector('#df-72e4875e-cfc9-489a-946e-e8a43025953a button.colab-df-convert');\n",
              "        buttonEl.style.display =\n",
              "          google.colab.kernel.accessAllowed ? 'block' : 'none';\n",
              "\n",
              "        async function convertToInteractive(key) {\n",
              "          const element = document.querySelector('#df-72e4875e-cfc9-489a-946e-e8a43025953a');\n",
              "          const dataTable =\n",
              "            await google.colab.kernel.invokeFunction('convertToInteractive',\n",
              "                                                     [key], {});\n",
              "          if (!dataTable) return;\n",
              "\n",
              "          const docLinkHtml = 'Like what you see? Visit the ' +\n",
              "            '<a target=\"_blank\" href=https://colab.research.google.com/notebooks/data_table.ipynb>data table notebook</a>'\n",
              "            + ' to learn more about interactive tables.';\n",
              "          element.innerHTML = '';\n",
              "          dataTable['output_type'] = 'display_data';\n",
              "          await google.colab.output.renderOutput(dataTable, element);\n",
              "          const docLink = document.createElement('div');\n",
              "          docLink.innerHTML = docLinkHtml;\n",
              "          element.appendChild(docLink);\n",
              "        }\n",
              "      </script>\n",
              "    </div>\n",
              "  </div>\n",
              "  "
            ],
            "text/plain": [
              "  patientid  offset  ... other_notes  Unnamed: 29\n",
              "0         2     0.0  ...         NaN          NaN\n",
              "1         2     3.0  ...         NaN          NaN\n",
              "2         2     5.0  ...         NaN          NaN\n",
              "3         2     6.0  ...         NaN          NaN\n",
              "4         4     0.0  ...         NaN          NaN\n",
              "\n",
              "[5 rows x 30 columns]"
            ]
          },
          "metadata": {},
          "execution_count": 6
        }
      ]
    },
    {
      "cell_type": "code",
      "source": [
        "TARGET_DIR = '/content/drive/MyDrive/Colab Notebooks/Dataset/Covid'\n",
        "import os\n",
        "import shutil\n",
        "if not os.path.exists(TARGET_DIR):\n",
        "  os.mkdir('/content/drive/MyDrive/Colab Notebooks/Dataset')\n",
        "  os.mkdir('/content/drive/MyDrive/Colab Notebooks/Dataset/Covid')\n",
        "  \n",
        "  print(\"Covid folder created\")"
      ],
      "metadata": {
        "id": "aEvpDhV4TpdZ"
      },
      "execution_count": null,
      "outputs": []
    },
    {
      "cell_type": "code",
      "source": [
        "cnt=0\n",
        "for (i,row) in df.iterrows():\n",
        "  if row[\"finding\"]=='Pneumonia/Viral/COVID-19'  and row['view']=='PA':\n",
        "    #we only want that xrays that are front view. PA stands for front view xrays\n",
        "    filename= row['filename']\n",
        "    image_path=os.path.join(IMAGES_PATH,filename)\n",
        "    image_copy_path = os.path.join(TARGET_DIR,filename)\n",
        "    shutil.copy2(image_path,image_copy_path)\n",
        "    print(\"moving image \",cnt)\n",
        "    cnt+=1\n",
        "\n",
        "print(cnt)"
      ],
      "metadata": {
        "colab": {
          "base_uri": "https://localhost:8080/"
        },
        "id": "txXF3-cGU5nw",
        "outputId": "6c2477b2-0359-404c-d503-29c6e5b5c36b"
      },
      "execution_count": null,
      "outputs": [
        {
          "output_type": "stream",
          "name": "stdout",
          "text": [
            "moving image  0\n",
            "moving image  1\n",
            "moving image  2\n",
            "moving image  3\n",
            "moving image  4\n",
            "moving image  5\n",
            "moving image  6\n",
            "moving image  7\n",
            "moving image  8\n",
            "moving image  9\n",
            "moving image  10\n",
            "moving image  11\n",
            "moving image  12\n",
            "moving image  13\n",
            "moving image  14\n",
            "moving image  15\n",
            "moving image  16\n",
            "moving image  17\n",
            "moving image  18\n",
            "moving image  19\n",
            "moving image  20\n",
            "moving image  21\n",
            "moving image  22\n",
            "moving image  23\n",
            "moving image  24\n",
            "moving image  25\n",
            "moving image  26\n",
            "moving image  27\n",
            "moving image  28\n",
            "moving image  29\n",
            "moving image  30\n",
            "moving image  31\n",
            "moving image  32\n",
            "moving image  33\n",
            "moving image  34\n",
            "moving image  35\n",
            "moving image  36\n",
            "moving image  37\n",
            "moving image  38\n",
            "moving image  39\n",
            "moving image  40\n",
            "moving image  41\n",
            "moving image  42\n",
            "moving image  43\n",
            "moving image  44\n",
            "moving image  45\n",
            "moving image  46\n",
            "moving image  47\n",
            "moving image  48\n",
            "moving image  49\n",
            "moving image  50\n",
            "moving image  51\n",
            "moving image  52\n",
            "moving image  53\n",
            "moving image  54\n",
            "moving image  55\n",
            "moving image  56\n",
            "moving image  57\n",
            "moving image  58\n",
            "moving image  59\n",
            "moving image  60\n",
            "moving image  61\n",
            "moving image  62\n",
            "moving image  63\n",
            "moving image  64\n",
            "moving image  65\n",
            "moving image  66\n",
            "moving image  67\n",
            "moving image  68\n",
            "moving image  69\n",
            "moving image  70\n",
            "moving image  71\n",
            "moving image  72\n",
            "moving image  73\n",
            "moving image  74\n",
            "moving image  75\n",
            "moving image  76\n",
            "moving image  77\n",
            "moving image  78\n",
            "moving image  79\n",
            "moving image  80\n",
            "moving image  81\n",
            "moving image  82\n",
            "moving image  83\n",
            "moving image  84\n",
            "moving image  85\n",
            "moving image  86\n",
            "moving image  87\n",
            "moving image  88\n",
            "moving image  89\n",
            "moving image  90\n",
            "moving image  91\n",
            "moving image  92\n",
            "moving image  93\n",
            "moving image  94\n",
            "moving image  95\n",
            "moving image  96\n",
            "moving image  97\n",
            "moving image  98\n",
            "moving image  99\n",
            "moving image  100\n",
            "moving image  101\n",
            "moving image  102\n",
            "moving image  103\n",
            "moving image  104\n",
            "moving image  105\n",
            "moving image  106\n",
            "moving image  107\n",
            "moving image  108\n",
            "moving image  109\n",
            "moving image  110\n",
            "moving image  111\n",
            "moving image  112\n",
            "moving image  113\n",
            "moving image  114\n",
            "moving image  115\n",
            "moving image  116\n",
            "moving image  117\n",
            "moving image  118\n",
            "moving image  119\n",
            "moving image  120\n",
            "moving image  121\n",
            "moving image  122\n",
            "moving image  123\n",
            "moving image  124\n",
            "moving image  125\n",
            "moving image  126\n",
            "moving image  127\n",
            "moving image  128\n",
            "moving image  129\n",
            "moving image  130\n",
            "moving image  131\n",
            "moving image  132\n",
            "moving image  133\n",
            "moving image  134\n",
            "moving image  135\n",
            "moving image  136\n",
            "moving image  137\n",
            "moving image  138\n",
            "moving image  139\n",
            "moving image  140\n",
            "moving image  141\n",
            "moving image  142\n",
            "moving image  143\n",
            "moving image  144\n",
            "moving image  145\n",
            "moving image  146\n",
            "moving image  147\n",
            "moving image  148\n",
            "moving image  149\n",
            "moving image  150\n",
            "moving image  151\n",
            "moving image  152\n",
            "moving image  153\n",
            "moving image  154\n",
            "moving image  155\n",
            "moving image  156\n",
            "moving image  157\n",
            "moving image  158\n",
            "moving image  159\n",
            "moving image  160\n",
            "moving image  161\n",
            "moving image  162\n",
            "moving image  163\n",
            "moving image  164\n",
            "moving image  165\n",
            "moving image  166\n",
            "moving image  167\n",
            "moving image  168\n",
            "moving image  169\n",
            "moving image  170\n",
            "moving image  171\n",
            "moving image  172\n",
            "moving image  173\n",
            "moving image  174\n",
            "moving image  175\n",
            "moving image  176\n",
            "moving image  177\n",
            "moving image  178\n",
            "moving image  179\n",
            "moving image  180\n",
            "moving image  181\n",
            "moving image  182\n",
            "moving image  183\n",
            "moving image  184\n",
            "moving image  185\n",
            "moving image  186\n",
            "moving image  187\n",
            "moving image  188\n",
            "moving image  189\n",
            "moving image  190\n",
            "moving image  191\n",
            "moving image  192\n",
            "moving image  193\n",
            "moving image  194\n",
            "moving image  195\n",
            "196\n"
          ]
        }
      ]
    },
    {
      "cell_type": "markdown",
      "source": [
        "##Sampling and extracting normal x-rays from the Kaggle Dataset"
      ],
      "metadata": {
        "id": "f6nOm1VTTqcO"
      }
    },
    {
      "cell_type": "code",
      "source": [
        "import random\n",
        "KAGGLE_FILE_PATH= \"/content/drive/MyDrive/Colab Notebooks/chest_xray_kaggle/train/NORMAL\"\n",
        "TARGET_NORMAL_DIR = \"/content/drive/MyDrive/Colab Notebooks/Dataset/Normal\"\n"
      ],
      "metadata": {
        "id": "An6Jo1btWHzD"
      },
      "execution_count": null,
      "outputs": []
    },
    {
      "cell_type": "code",
      "source": [
        "\n",
        "image_names=os.listdir(KAGGLE_FILE_PATH)\n",
        "random.shuffle(image_names)\n",
        "os.mkdir(TARGET_NORMAL_DIR)\n",
        "for i in range(196):\n",
        "  image_name = image_names[i]\n",
        "  image_path= os.path.join(KAGGLE_FILE_PATH,image_name)\n",
        "\n",
        "  target_path = os.path.join(TARGET_NORMAL_DIR,image_name)\n",
        "\n",
        "  shutil.copy2(image_path,target_path)\n",
        "  print(\"copying image \",i)\n",
        "\n"
      ],
      "metadata": {
        "colab": {
          "base_uri": "https://localhost:8080/"
        },
        "id": "afW0-UGQgYCR",
        "outputId": "dc97a7d8-cab5-4735-a712-c1bf0f0e1a43"
      },
      "execution_count": null,
      "outputs": [
        {
          "output_type": "stream",
          "name": "stdout",
          "text": [
            "copying image  0\n",
            "copying image  1\n",
            "copying image  2\n",
            "copying image  3\n",
            "copying image  4\n",
            "copying image  5\n",
            "copying image  6\n",
            "copying image  7\n",
            "copying image  8\n",
            "copying image  9\n",
            "copying image  10\n",
            "copying image  11\n",
            "copying image  12\n",
            "copying image  13\n",
            "copying image  14\n",
            "copying image  15\n",
            "copying image  16\n",
            "copying image  17\n",
            "copying image  18\n",
            "copying image  19\n",
            "copying image  20\n",
            "copying image  21\n",
            "copying image  22\n",
            "copying image  23\n",
            "copying image  24\n",
            "copying image  25\n",
            "copying image  26\n",
            "copying image  27\n",
            "copying image  28\n",
            "copying image  29\n",
            "copying image  30\n",
            "copying image  31\n",
            "copying image  32\n",
            "copying image  33\n",
            "copying image  34\n",
            "copying image  35\n",
            "copying image  36\n",
            "copying image  37\n",
            "copying image  38\n",
            "copying image  39\n",
            "copying image  40\n",
            "copying image  41\n",
            "copying image  42\n",
            "copying image  43\n",
            "copying image  44\n",
            "copying image  45\n",
            "copying image  46\n",
            "copying image  47\n",
            "copying image  48\n",
            "copying image  49\n",
            "copying image  50\n",
            "copying image  51\n",
            "copying image  52\n",
            "copying image  53\n",
            "copying image  54\n",
            "copying image  55\n",
            "copying image  56\n",
            "copying image  57\n",
            "copying image  58\n",
            "copying image  59\n",
            "copying image  60\n",
            "copying image  61\n",
            "copying image  62\n",
            "copying image  63\n",
            "copying image  64\n",
            "copying image  65\n",
            "copying image  66\n",
            "copying image  67\n",
            "copying image  68\n",
            "copying image  69\n",
            "copying image  70\n",
            "copying image  71\n",
            "copying image  72\n",
            "copying image  73\n",
            "copying image  74\n",
            "copying image  75\n",
            "copying image  76\n",
            "copying image  77\n",
            "copying image  78\n",
            "copying image  79\n",
            "copying image  80\n",
            "copying image  81\n",
            "copying image  82\n",
            "copying image  83\n",
            "copying image  84\n",
            "copying image  85\n",
            "copying image  86\n",
            "copying image  87\n",
            "copying image  88\n",
            "copying image  89\n",
            "copying image  90\n",
            "copying image  91\n",
            "copying image  92\n",
            "copying image  93\n",
            "copying image  94\n",
            "copying image  95\n",
            "copying image  96\n",
            "copying image  97\n",
            "copying image  98\n",
            "copying image  99\n",
            "copying image  100\n",
            "copying image  101\n",
            "copying image  102\n",
            "copying image  103\n",
            "copying image  104\n",
            "copying image  105\n",
            "copying image  106\n",
            "copying image  107\n",
            "copying image  108\n",
            "copying image  109\n",
            "copying image  110\n",
            "copying image  111\n",
            "copying image  112\n",
            "copying image  113\n",
            "copying image  114\n",
            "copying image  115\n",
            "copying image  116\n",
            "copying image  117\n",
            "copying image  118\n",
            "copying image  119\n",
            "copying image  120\n",
            "copying image  121\n",
            "copying image  122\n",
            "copying image  123\n",
            "copying image  124\n",
            "copying image  125\n",
            "copying image  126\n",
            "copying image  127\n",
            "copying image  128\n",
            "copying image  129\n",
            "copying image  130\n",
            "copying image  131\n",
            "copying image  132\n",
            "copying image  133\n",
            "copying image  134\n",
            "copying image  135\n",
            "copying image  136\n",
            "copying image  137\n",
            "copying image  138\n",
            "copying image  139\n",
            "copying image  140\n",
            "copying image  141\n",
            "copying image  142\n",
            "copying image  143\n",
            "copying image  144\n",
            "copying image  145\n",
            "copying image  146\n",
            "copying image  147\n",
            "copying image  148\n",
            "copying image  149\n",
            "copying image  150\n",
            "copying image  151\n",
            "copying image  152\n",
            "copying image  153\n",
            "copying image  154\n",
            "copying image  155\n",
            "copying image  156\n",
            "copying image  157\n",
            "copying image  158\n",
            "copying image  159\n",
            "copying image  160\n",
            "copying image  161\n",
            "copying image  162\n",
            "copying image  163\n",
            "copying image  164\n",
            "copying image  165\n",
            "copying image  166\n",
            "copying image  167\n",
            "copying image  168\n",
            "copying image  169\n",
            "copying image  170\n",
            "copying image  171\n",
            "copying image  172\n",
            "copying image  173\n",
            "copying image  174\n",
            "copying image  175\n",
            "copying image  176\n",
            "copying image  177\n",
            "copying image  178\n",
            "copying image  179\n",
            "copying image  180\n",
            "copying image  181\n",
            "copying image  182\n",
            "copying image  183\n",
            "copying image  184\n",
            "copying image  185\n",
            "copying image  186\n",
            "copying image  187\n",
            "copying image  188\n",
            "copying image  189\n",
            "copying image  190\n",
            "copying image  191\n",
            "copying image  192\n",
            "copying image  193\n",
            "copying image  194\n",
            "copying image  195\n"
          ]
        }
      ]
    },
    {
      "cell_type": "code",
      "source": [
        "os.mkdir(\"/content/drive/MyDrive/Colab Notebooks/Dataset/Train\")\n",
        "os.mkdir(\"/content/drive/MyDrive/Colab Notebooks/Dataset/Test\")"
      ],
      "metadata": {
        "id": "wUTKtcFRz7ri"
      },
      "execution_count": null,
      "outputs": []
    },
    {
      "cell_type": "code",
      "source": [
        "196*0.75 #this is the split we will use for training. 75% training and 25% for validation."
      ],
      "metadata": {
        "colab": {
          "base_uri": "https://localhost:8080/"
        },
        "id": "1PrnicfR1enk",
        "outputId": "032bccbc-4d46-47eb-c78b-f21c8ee6d379"
      },
      "execution_count": null,
      "outputs": [
        {
          "output_type": "execute_result",
          "data": {
            "text/plain": [
              "147.0"
            ]
          },
          "metadata": {},
          "execution_count": 20
        }
      ]
    },
    {
      "cell_type": "code",
      "source": [
        "os.mkdir(\"/content/drive/MyDrive/Colab Notebooks/Dataset/Test/Covid\")\n",
        "os.mkdir(\"/content/drive/MyDrive/Colab Notebooks/Dataset/Test/Normal\")"
      ],
      "metadata": {
        "id": "iv6SUTiT14b1"
      },
      "execution_count": null,
      "outputs": []
    },
    {
      "cell_type": "code",
      "source": [
        "COVID_PATH=\"/content/drive/MyDrive/Colab Notebooks/Dataset/Covid\"\n",
        "NORMAL_PATH=\"/content/drive/MyDrive/Colab Notebooks/Dataset/Normal\"\n",
        "T_COVID_PATH=\"/content/drive/MyDrive/Colab Notebooks/Dataset/Test/Covid\"\n",
        "T_NORMAL_PATH=\"/content/drive/MyDrive/Colab Notebooks/Dataset/Test/Normal\"\n",
        "covid_images= os.listdir(COVID_PATH)\n",
        "normal_images=os.listdir(NORMAL_PATH)\n",
        "for i in range(196-147):\n",
        "  covid_image_path = os.path.join(COVID_PATH,covid_images[i])\n",
        "  normal_image_path = os.path.join(NORMAL_PATH,normal_images[i])\n",
        "  shutil.move(covid_image_path,T_COVID_PATH)\n",
        "  shutil.move(normal_image_path,T_NORMAL_PATH)\n"
      ],
      "metadata": {
        "id": "f8rsXO0q4b2I"
      },
      "execution_count": null,
      "outputs": []
    },
    {
      "cell_type": "code",
      "source": [
        "len(os.listdir(\"/content/drive/MyDrive/Colab Notebooks/Dataset/Test/Normal\"))"
      ],
      "metadata": {
        "colab": {
          "base_uri": "https://localhost:8080/"
        },
        "id": "C1_xNxbQ8sU0",
        "outputId": "b2d6c14b-82c4-44eb-f872-7213e2855a50"
      },
      "execution_count": null,
      "outputs": [
        {
          "output_type": "execute_result",
          "data": {
            "text/plain": [
              "49"
            ]
          },
          "metadata": {},
          "execution_count": 61
        }
      ]
    },
    {
      "cell_type": "code",
      "source": [
        "import numpy as np\n",
        "import matplotlib.pyplot as plt\n",
        "import keras\n",
        "from keras.layers import *\n",
        "from keras.models import *\n",
        "from keras.preprocessing import image\n"
      ],
      "metadata": {
        "id": "6bGjJfOR89oA"
      },
      "execution_count": null,
      "outputs": []
    },
    {
      "cell_type": "code",
      "source": [
        "#cnn based model in keras\n",
        "model = Sequential()"
      ],
      "metadata": {
        "id": "MOdSS0T4CwRv"
      },
      "execution_count": null,
      "outputs": []
    },
    {
      "cell_type": "code",
      "source": [
        "model.add(Conv2D(32,kernel_size=(3,3),activation=\"relu\",input_shape=(224,224,3)))\n",
        "model.add(Conv2D(64,(3,3),activation=\"relu\"))\n",
        "model.add(MaxPooling2D(pool_size=(2,2)))\n",
        "model.add(Dropout(0.25))\n",
        "\n",
        "model.add(Conv2D(64,(3,3),activation=\"relu\"))\n",
        "model.add(MaxPooling2D(pool_size=(2,2)))\n",
        "model.add(Dropout(0.25))\n",
        "\n",
        "model.add(Conv2D(128,(3,3),activation=\"relu\"))\n",
        "model.add(MaxPooling2D(pool_size=(2,2)))\n",
        "model.add(Dropout(0.25))\n",
        "\n",
        "model.add(Flatten())\n",
        "model.add(Dense(64,activation=\"relu\"))\n",
        "model.add(Dropout(0.5))\n",
        "model.add(Dense(1,activation=\"sigmoid\"))\n"
      ],
      "metadata": {
        "id": "TSCMQjB7C2w8"
      },
      "execution_count": null,
      "outputs": []
    },
    {
      "cell_type": "code",
      "source": [
        "model.compile(optimizer=\"adam\",loss=\"binary_crossentropy\",metrics=[\"accuracy\"])"
      ],
      "metadata": {
        "id": "i5TBpqAMKCV0"
      },
      "execution_count": null,
      "outputs": []
    },
    {
      "cell_type": "code",
      "source": [
        "model.summary()"
      ],
      "metadata": {
        "colab": {
          "base_uri": "https://localhost:8080/"
        },
        "id": "TNFyKbqILjHn",
        "outputId": "10e0845f-31f4-4100-b436-30935d8c85ea"
      },
      "execution_count": null,
      "outputs": [
        {
          "output_type": "stream",
          "name": "stdout",
          "text": [
            "Model: \"sequential\"\n",
            "_________________________________________________________________\n",
            " Layer (type)                Output Shape              Param #   \n",
            "=================================================================\n",
            " conv2d (Conv2D)             (None, 222, 222, 32)      896       \n",
            "                                                                 \n",
            " conv2d_1 (Conv2D)           (None, 220, 220, 64)      18496     \n",
            "                                                                 \n",
            " max_pooling2d (MaxPooling2D  (None, 110, 110, 64)     0         \n",
            " )                                                               \n",
            "                                                                 \n",
            " dropout (Dropout)           (None, 110, 110, 64)      0         \n",
            "                                                                 \n",
            " conv2d_2 (Conv2D)           (None, 108, 108, 64)      36928     \n",
            "                                                                 \n",
            " max_pooling2d_1 (MaxPooling  (None, 54, 54, 64)       0         \n",
            " 2D)                                                             \n",
            "                                                                 \n",
            " dropout_1 (Dropout)         (None, 54, 54, 64)        0         \n",
            "                                                                 \n",
            " conv2d_3 (Conv2D)           (None, 52, 52, 128)       73856     \n",
            "                                                                 \n",
            " max_pooling2d_2 (MaxPooling  (None, 26, 26, 128)      0         \n",
            " 2D)                                                             \n",
            "                                                                 \n",
            " dropout_2 (Dropout)         (None, 26, 26, 128)       0         \n",
            "                                                                 \n",
            " flatten (Flatten)           (None, 86528)             0         \n",
            "                                                                 \n",
            " dense (Dense)               (None, 64)                5537856   \n",
            "                                                                 \n",
            " dropout_3 (Dropout)         (None, 64)                0         \n",
            "                                                                 \n",
            " dense_1 (Dense)             (None, 1)                 65        \n",
            "                                                                 \n",
            "=================================================================\n",
            "Total params: 5,668,097\n",
            "Trainable params: 5,668,097\n",
            "Non-trainable params: 0\n",
            "_________________________________________________________________\n"
          ]
        }
      ]
    },
    {
      "cell_type": "code",
      "source": [
        "#train from scratch\n",
        "train_datagen = image.ImageDataGenerator(\n",
        "    rescale= 1/255.0,\n",
        "    shear_range= 0.2 ,\n",
        "    zoom_range= 0.2,\n",
        "    horizontal_flip=True\n",
        "                                         )\n",
        "\n",
        "\n",
        "test_dataset= image.ImageDataGenerator(rescale= 1.0/255)\n"
      ],
      "metadata": {
        "id": "NYthTXY1Lpub"
      },
      "execution_count": null,
      "outputs": []
    },
    {
      "cell_type": "code",
      "source": [
        "train_generator = train_datagen.flow_from_directory(\n",
        "    '/content/drive/MyDrive/Colab Notebooks/Dataset/Train',\n",
        "    target_size=(224,224),\n",
        "    batch_size=32,\n",
        "    class_mode= 'binary'\n",
        ")\n"
      ],
      "metadata": {
        "colab": {
          "base_uri": "https://localhost:8080/"
        },
        "id": "zGrQagIoMSxC",
        "outputId": "93e5aa67-c19d-49d0-9751-38c2192ea6be"
      },
      "execution_count": null,
      "outputs": [
        {
          "output_type": "stream",
          "name": "stdout",
          "text": [
            "Found 294 images belonging to 2 classes.\n"
          ]
        }
      ]
    },
    {
      "cell_type": "code",
      "source": [
        "train_generator.class_indices"
      ],
      "metadata": {
        "colab": {
          "base_uri": "https://localhost:8080/"
        },
        "id": "6-Z2Iw6MFQ_u",
        "outputId": "54965509-8f26-420e-dac8-42a93823efff"
      },
      "execution_count": null,
      "outputs": [
        {
          "output_type": "execute_result",
          "data": {
            "text/plain": [
              "{'Covid': 0, 'Normal': 1}"
            ]
          },
          "metadata": {},
          "execution_count": 15
        }
      ]
    },
    {
      "cell_type": "code",
      "source": [
        "validation_generator= test_dataset.flow_from_directory(\n",
        "    '/content/drive/MyDrive/Colab Notebooks/Dataset/Test',\n",
        "    target_size=(224,224),\n",
        "    batch_size=32,\n",
        "    class_mode= 'binary'\n",
        ")"
      ],
      "metadata": {
        "colab": {
          "base_uri": "https://localhost:8080/"
        },
        "id": "zgQHGZjEFZ32",
        "outputId": "cda368d4-d80c-482b-ed85-338b9193dda4"
      },
      "execution_count": null,
      "outputs": [
        {
          "output_type": "stream",
          "name": "stdout",
          "text": [
            "Found 98 images belonging to 2 classes.\n"
          ]
        }
      ]
    },
    {
      "cell_type": "code",
      "source": [
        "validation_generator.class_indices"
      ],
      "metadata": {
        "colab": {
          "base_uri": "https://localhost:8080/"
        },
        "id": "-JU1UAZrGOcs",
        "outputId": "5e259f4f-12d6-4687-8109-ab2edfd6a7dd"
      },
      "execution_count": null,
      "outputs": [
        {
          "output_type": "execute_result",
          "data": {
            "text/plain": [
              "{'Covid': 0, 'Normal': 1}"
            ]
          },
          "metadata": {},
          "execution_count": 17
        }
      ]
    },
    {
      "cell_type": "code",
      "source": [
        "hist = model.fit_generator(train_generator,steps_per_epoch=10,\n",
        "                             epochs=20,\n",
        "                             validation_data=validation_generator,\n",
        "                             validation_steps=2)"
      ],
      "metadata": {
        "colab": {
          "base_uri": "https://localhost:8080/"
        },
        "id": "i00-znJkGXd1",
        "outputId": "2411d7d5-e0d4-4a87-a289-5c316a9126e5"
      },
      "execution_count": null,
      "outputs": [
        {
          "output_type": "stream",
          "name": "stderr",
          "text": [
            "/usr/local/lib/python3.7/dist-packages/ipykernel_launcher.py:4: UserWarning: `Model.fit_generator` is deprecated and will be removed in a future version. Please use `Model.fit`, which supports generators.\n",
            "  after removing the cwd from sys.path.\n"
          ]
        },
        {
          "output_type": "stream",
          "name": "stdout",
          "text": [
            "Epoch 1/20\n",
            "10/10 [==============================] - 68s 6s/step - loss: 0.9164 - accuracy: 0.6054 - val_loss: 0.6520 - val_accuracy: 0.8750\n",
            "Epoch 2/20\n",
            "10/10 [==============================] - 15s 2s/step - loss: 0.5156 - accuracy: 0.7619 - val_loss: 0.4850 - val_accuracy: 0.9062\n",
            "Epoch 3/20\n",
            "10/10 [==============================] - 15s 1s/step - loss: 0.3542 - accuracy: 0.8673 - val_loss: 0.2542 - val_accuracy: 0.9844\n",
            "Epoch 4/20\n",
            "10/10 [==============================] - 15s 2s/step - loss: 0.2911 - accuracy: 0.8946 - val_loss: 0.4649 - val_accuracy: 0.9844\n",
            "Epoch 5/20\n",
            "10/10 [==============================] - 15s 2s/step - loss: 0.2566 - accuracy: 0.9150 - val_loss: 0.1025 - val_accuracy: 0.9844\n",
            "Epoch 6/20\n",
            "10/10 [==============================] - 15s 1s/step - loss: 0.2319 - accuracy: 0.9082 - val_loss: 0.1433 - val_accuracy: 0.9688\n",
            "Epoch 7/20\n",
            "10/10 [==============================] - 15s 1s/step - loss: 0.2572 - accuracy: 0.9184 - val_loss: 0.1372 - val_accuracy: 0.9688\n",
            "Epoch 8/20\n",
            "10/10 [==============================] - 15s 2s/step - loss: 0.2961 - accuracy: 0.8946 - val_loss: 0.2123 - val_accuracy: 0.9688\n",
            "Epoch 9/20\n",
            "10/10 [==============================] - 15s 2s/step - loss: 0.2515 - accuracy: 0.9184 - val_loss: 0.2505 - val_accuracy: 0.9375\n",
            "Epoch 10/20\n",
            "10/10 [==============================] - 15s 2s/step - loss: 0.1938 - accuracy: 0.9184 - val_loss: 0.1360 - val_accuracy: 0.9531\n",
            "Epoch 11/20\n",
            "10/10 [==============================] - 16s 2s/step - loss: 0.1909 - accuracy: 0.9320 - val_loss: 0.1316 - val_accuracy: 1.0000\n",
            "Epoch 12/20\n",
            "10/10 [==============================] - 28s 3s/step - loss: 0.1625 - accuracy: 0.9388 - val_loss: 0.0885 - val_accuracy: 0.9844\n",
            "Epoch 13/20\n",
            "10/10 [==============================] - 14s 1s/step - loss: 0.1568 - accuracy: 0.9558 - val_loss: 0.0594 - val_accuracy: 0.9844\n",
            "Epoch 14/20\n",
            "10/10 [==============================] - 14s 1s/step - loss: 0.1284 - accuracy: 0.9524 - val_loss: 0.1164 - val_accuracy: 0.9531\n",
            "Epoch 15/20\n",
            "10/10 [==============================] - 14s 2s/step - loss: 0.1717 - accuracy: 0.9388 - val_loss: 0.1010 - val_accuracy: 0.9688\n",
            "Epoch 16/20\n",
            "10/10 [==============================] - 14s 1s/step - loss: 0.1617 - accuracy: 0.9320 - val_loss: 0.1533 - val_accuracy: 0.9375\n",
            "Epoch 17/20\n",
            "10/10 [==============================] - 16s 2s/step - loss: 0.1213 - accuracy: 0.9660 - val_loss: 0.0567 - val_accuracy: 0.9688\n",
            "Epoch 18/20\n",
            "10/10 [==============================] - 14s 2s/step - loss: 0.2256 - accuracy: 0.9286 - val_loss: 0.1263 - val_accuracy: 0.9688\n",
            "Epoch 19/20\n",
            "10/10 [==============================] - 14s 1s/step - loss: 0.2245 - accuracy: 0.9422 - val_loss: 0.1118 - val_accuracy: 0.9375\n",
            "Epoch 20/20\n",
            "10/10 [==============================] - 14s 1s/step - loss: 0.1178 - accuracy: 0.9592 - val_loss: 0.0145 - val_accuracy: 1.0000\n"
          ]
        }
      ]
    },
    {
      "cell_type": "code",
      "source": [
        "plt.figure(0)\n",
        "plt.plot(hist.history[\"loss\"],'g',label=\"Loss\")\n",
        "plt.plot(hist.history[\"val_loss\"] , 'b',label=\"Val_loss\")\n",
        "plt.plot(hist.history[\"accuracy\"],'r',label=\"Accuracy\")\n",
        "plt.plot(hist.history[\"val_accuracy\"],'black',label=\"Val accuracy\")\n",
        "plt.legend()\n",
        "plt.show()\n"
      ],
      "metadata": {
        "id": "zkh50EvFHHiN",
        "colab": {
          "base_uri": "https://localhost:8080/",
          "height": 265
        },
        "outputId": "73101a18-896e-4b4f-f6a7-93fa651684f9"
      },
      "execution_count": null,
      "outputs": [
        {
          "output_type": "display_data",
          "data": {
            "image/png": "[encoded data removed]",
            "text/plain": [
              "<Figure size 432x288 with 1 Axes>"
            ]
          },
          "metadata": {
            "needs_background": "light"
          }
        }
      ]
    },
    {
      "cell_type": "code",
      "source": [
        ""
      ],
      "metadata": {
        "colab": {
          "base_uri": "https://localhost:8080/"
        },
        "id": "MLl39-iiUQv4",
        "outputId": "b6cb194a-7e19-46c2-8fa5-836d9bfa219a"
      },
      "execution_count": null,
      "outputs": [
        {
          "output_type": "execute_result",
          "data": {
            "text/plain": [
              "{'accuracy': [0.626086950302124,\n",
              "  0.7956521511077881,\n",
              "  0.852173924446106,\n",
              "  0.921875,\n",
              "  0.8999999761581421,\n",
              "  0.8999999761581421,\n",
              "  0.9347826242446899,\n",
              "  0.9434782862663269,\n",
              "  0.9347826242446899,\n",
              "  0.9609375],\n",
              " 'loss': [0.7391324043273926,\n",
              "  0.48266375064849854,\n",
              "  0.3411889672279358,\n",
              "  0.27026528120040894,\n",
              "  0.3295590281486511,\n",
              "  0.29233112931251526,\n",
              "  0.22504399716854095,\n",
              "  0.1813996285200119,\n",
              "  0.15912100672721863,\n",
              "  0.12249691784381866],\n",
              " 'val_accuracy': [0.765625,\n",
              "  0.90625,\n",
              "  0.921875,\n",
              "  0.984375,\n",
              "  0.78125,\n",
              "  0.96875,\n",
              "  0.953125,\n",
              "  0.96875,\n",
              "  1.0,\n",
              "  1.0],\n",
              " 'val_loss': [0.6595597267150879,\n",
              "  0.37677574157714844,\n",
              "  0.2050822228193283,\n",
              "  0.08228810876607895,\n",
              "  0.39470815658569336,\n",
              "  0.14475050568580627,\n",
              "  0.14892366528511047,\n",
              "  0.06952134519815445,\n",
              "  0.02554008737206459,\n",
              "  0.03876662626862526]}"
            ]
          },
          "metadata": {},
          "execution_count": 27
        }
      ]
    },
    {
      "cell_type": "code",
      "source": [
        ""
      ],
      "metadata": {
        "id": "oUU-BThuVEFb"
      },
      "execution_count": null,
      "outputs": []
    }
  ]
}